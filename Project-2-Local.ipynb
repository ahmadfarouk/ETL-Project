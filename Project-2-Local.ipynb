{
 "cells": [
  {
   "cell_type": "code",
   "execution_count": 1,
   "metadata": {},
   "outputs": [],
   "source": [
    "import sqlalchemy \n",
    "from sqlalchemy.ext.automap import automap_base\n",
    "from sqlalchemy.orm import Session\n",
    "from sqlalchemy import create_engine, func,inspect\n",
    "from sqlalchemy import Integer, Column, Float, String\n",
    "import numpy as np"
   ]
  },
  {
   "cell_type": "code",
   "execution_count": 2,
   "metadata": {},
   "outputs": [],
   "source": [
    "import pandas as pd\n",
    "import os\n",
    "import csv\n",
    "import requests\n",
    "#from config import api_key\n",
    "from pprint import pprint\n",
    "import matplotlib.pyplot as plt\n"
   ]
  },
  {
   "cell_type": "code",
   "execution_count": 3,
   "metadata": {},
   "outputs": [
    {
     "data": {
      "text/html": [
       "<div>\n",
       "<style scoped>\n",
       "    .dataframe tbody tr th:only-of-type {\n",
       "        vertical-align: middle;\n",
       "    }\n",
       "\n",
       "    .dataframe tbody tr th {\n",
       "        vertical-align: top;\n",
       "    }\n",
       "\n",
       "    .dataframe thead th {\n",
       "        text-align: right;\n",
       "    }\n",
       "</style>\n",
       "<table border=\"1\" class=\"dataframe\">\n",
       "  <thead>\n",
       "    <tr style=\"text-align: right;\">\n",
       "      <th></th>\n",
       "      <th>show_id</th>\n",
       "      <th>type</th>\n",
       "      <th>title</th>\n",
       "      <th>director</th>\n",
       "      <th>cast</th>\n",
       "      <th>country</th>\n",
       "      <th>date_added</th>\n",
       "      <th>Netflix release year</th>\n",
       "      <th>rating</th>\n",
       "      <th>duration</th>\n",
       "      <th>listed_in</th>\n",
       "      <th>description</th>\n",
       "      <th>IMDB rating</th>\n",
       "      <th>Rotten Tomatoes rating</th>\n",
       "      <th>Award</th>\n",
       "      <th>Released Date</th>\n",
       "      <th>Budget</th>\n",
       "      <th>Movie ID</th>\n",
       "      <th>Revenue</th>\n",
       "    </tr>\n",
       "  </thead>\n",
       "  <tbody>\n",
       "    <tr>\n",
       "      <th>0</th>\n",
       "      <td>81145628</td>\n",
       "      <td>Movie</td>\n",
       "      <td>Norm of the North: King Sized Adventure</td>\n",
       "      <td>Richard Finn, Tim Maltby</td>\n",
       "      <td>Alan Marriott, Andrew Toth, Brian Dobson, Cole...</td>\n",
       "      <td>United States, India, South Korea, China</td>\n",
       "      <td>9-Sep-19</td>\n",
       "      <td>2019</td>\n",
       "      <td>TV-PG</td>\n",
       "      <td>90 min</td>\n",
       "      <td>Children &amp; Family Movies, Comedies</td>\n",
       "      <td>Before planning an awesome wedding for his gra...</td>\n",
       "      <td>3</td>\n",
       "      <td>36</td>\n",
       "      <td>NaN</td>\n",
       "      <td>2-Aug-19</td>\n",
       "      <td>0</td>\n",
       "      <td>601131.0</td>\n",
       "      <td>1442504</td>\n",
       "    </tr>\n",
       "    <tr>\n",
       "      <th>1</th>\n",
       "      <td>80117401</td>\n",
       "      <td>Movie</td>\n",
       "      <td>Jandino: Whatever it Takes</td>\n",
       "      <td>NaN</td>\n",
       "      <td>Jandino Asporaat</td>\n",
       "      <td>United Kingdom</td>\n",
       "      <td>9-Sep-16</td>\n",
       "      <td>2016</td>\n",
       "      <td>TV-MA</td>\n",
       "      <td>94 min</td>\n",
       "      <td>Stand-Up Comedy</td>\n",
       "      <td>Jandino Asporaat riffs on the challenges of ra...</td>\n",
       "      <td>5</td>\n",
       "      <td>0</td>\n",
       "      <td>NaN</td>\n",
       "      <td>NaN</td>\n",
       "      <td>0</td>\n",
       "      <td>415722.0</td>\n",
       "      <td>0</td>\n",
       "    </tr>\n",
       "    <tr>\n",
       "      <th>2</th>\n",
       "      <td>80163890</td>\n",
       "      <td>TV Show</td>\n",
       "      <td>Apaches</td>\n",
       "      <td>NaN</td>\n",
       "      <td>Alberto Ammann, Eloy Azorín, Verónica Echegui,...</td>\n",
       "      <td>Spain</td>\n",
       "      <td>8-Sep-17</td>\n",
       "      <td>2016</td>\n",
       "      <td>TV-MA</td>\n",
       "      <td>1 Season</td>\n",
       "      <td>Crime TV Shows, International TV Shows, Spanis...</td>\n",
       "      <td>A young journalist is forced into a life of cr...</td>\n",
       "      <td>5</td>\n",
       "      <td>31</td>\n",
       "      <td>2 nominations.</td>\n",
       "      <td>14-Aug-13</td>\n",
       "      <td>0</td>\n",
       "      <td>164337.0</td>\n",
       "      <td>0</td>\n",
       "    </tr>\n",
       "    <tr>\n",
       "      <th>3</th>\n",
       "      <td>70304989</td>\n",
       "      <td>Movie</td>\n",
       "      <td>Automata</td>\n",
       "      <td>Gabe Ibáñez</td>\n",
       "      <td>Antonio Banderas, Dylan McDermott, Melanie Gri...</td>\n",
       "      <td>Bulgaria, United States, Spain, Canada</td>\n",
       "      <td>8-Sep-17</td>\n",
       "      <td>2014</td>\n",
       "      <td>R</td>\n",
       "      <td>110 min</td>\n",
       "      <td>International Movies, Sci-Fi &amp; Fantasy, Thrillers</td>\n",
       "      <td>In a dystopian future, an insurance adjuster f...</td>\n",
       "      <td>6</td>\n",
       "      <td>29</td>\n",
       "      <td>6 nominations.</td>\n",
       "      <td>17-Oct-14</td>\n",
       "      <td>7000000</td>\n",
       "      <td>262543.0</td>\n",
       "      <td>0</td>\n",
       "    </tr>\n",
       "    <tr>\n",
       "      <th>4</th>\n",
       "      <td>70304990</td>\n",
       "      <td>Movie</td>\n",
       "      <td>Good People</td>\n",
       "      <td>Henrik Ruben Genz</td>\n",
       "      <td>James Franco, Kate Hudson, Tom Wilkinson, Omar...</td>\n",
       "      <td>United States, United Kingdom, Denmark, Sweden</td>\n",
       "      <td>8-Sep-17</td>\n",
       "      <td>2014</td>\n",
       "      <td>R</td>\n",
       "      <td>90 min</td>\n",
       "      <td>Action &amp; Adventure, Thrillers</td>\n",
       "      <td>A struggling couple can't believe their luck w...</td>\n",
       "      <td>5</td>\n",
       "      <td>12</td>\n",
       "      <td>NaN</td>\n",
       "      <td>21-Aug-15</td>\n",
       "      <td>0</td>\n",
       "      <td>262338.0</td>\n",
       "      <td>0</td>\n",
       "    </tr>\n",
       "  </tbody>\n",
       "</table>\n",
       "</div>"
      ],
      "text/plain": [
       "    show_id     type                                    title  \\\n",
       "0  81145628    Movie  Norm of the North: King Sized Adventure   \n",
       "1  80117401    Movie               Jandino: Whatever it Takes   \n",
       "2  80163890  TV Show                                  Apaches   \n",
       "3  70304989    Movie                                 Automata   \n",
       "4  70304990    Movie                              Good People   \n",
       "\n",
       "                   director  \\\n",
       "0  Richard Finn, Tim Maltby   \n",
       "1                       NaN   \n",
       "2                       NaN   \n",
       "3               Gabe Ibáñez   \n",
       "4         Henrik Ruben Genz   \n",
       "\n",
       "                                                cast  \\\n",
       "0  Alan Marriott, Andrew Toth, Brian Dobson, Cole...   \n",
       "1                                   Jandino Asporaat   \n",
       "2  Alberto Ammann, Eloy Azorín, Verónica Echegui,...   \n",
       "3  Antonio Banderas, Dylan McDermott, Melanie Gri...   \n",
       "4  James Franco, Kate Hudson, Tom Wilkinson, Omar...   \n",
       "\n",
       "                                          country date_added  \\\n",
       "0        United States, India, South Korea, China   9-Sep-19   \n",
       "1                                  United Kingdom   9-Sep-16   \n",
       "2                                           Spain   8-Sep-17   \n",
       "3          Bulgaria, United States, Spain, Canada   8-Sep-17   \n",
       "4  United States, United Kingdom, Denmark, Sweden   8-Sep-17   \n",
       "\n",
       "   Netflix release year rating  duration  \\\n",
       "0                  2019  TV-PG    90 min   \n",
       "1                  2016  TV-MA    94 min   \n",
       "2                  2016  TV-MA  1 Season   \n",
       "3                  2014      R   110 min   \n",
       "4                  2014      R    90 min   \n",
       "\n",
       "                                           listed_in  \\\n",
       "0                 Children & Family Movies, Comedies   \n",
       "1                                    Stand-Up Comedy   \n",
       "2  Crime TV Shows, International TV Shows, Spanis...   \n",
       "3  International Movies, Sci-Fi & Fantasy, Thrillers   \n",
       "4                      Action & Adventure, Thrillers   \n",
       "\n",
       "                                         description  IMDB rating  \\\n",
       "0  Before planning an awesome wedding for his gra...            3   \n",
       "1  Jandino Asporaat riffs on the challenges of ra...            5   \n",
       "2  A young journalist is forced into a life of cr...            5   \n",
       "3  In a dystopian future, an insurance adjuster f...            6   \n",
       "4  A struggling couple can't believe their luck w...            5   \n",
       "\n",
       "   Rotten Tomatoes rating           Award Released Date   Budget  Movie ID  \\\n",
       "0                      36             NaN      2-Aug-19        0  601131.0   \n",
       "1                       0             NaN           NaN        0  415722.0   \n",
       "2                      31  2 nominations.     14-Aug-13        0  164337.0   \n",
       "3                      29  6 nominations.     17-Oct-14  7000000  262543.0   \n",
       "4                      12             NaN     21-Aug-15        0  262338.0   \n",
       "\n",
       "   Revenue  \n",
       "0  1442504  \n",
       "1        0  \n",
       "2        0  \n",
       "3        0  \n",
       "4        0  "
      ]
     },
     "execution_count": 3,
     "metadata": {},
     "output_type": "execute_result"
    }
   ],
   "source": [
    "input_file= os.path.join(\"TMDB_OMDB-3.csv\")\n",
    "df_new=pd.read_csv('TMDB_OMDB-3.csv', encoding = 'utf8')\n",
    "df_new.head()\n"
   ]
  },
  {
   "cell_type": "code",
   "execution_count": 4,
   "metadata": {},
   "outputs": [
    {
     "data": {
      "text/plain": [
       "['pg_rating', 'title', 'cast', 'Listed_in']"
      ]
     },
     "execution_count": 4,
     "metadata": {},
     "output_type": "execute_result"
    }
   ],
   "source": [
    "engine = create_engine(\"postgres://pgadmin@pg-srv-001:ucN-xZRL3NsaBjvG2tcw1gPcsNeS5Xfw@pg-srv-001.postgres.database.azure.com:5432/netflix\",connect_args={'sslmode':'require'})\n",
    "\n",
    "conn=engine.connect()\n",
    "Base = automap_base()\n",
    "Base.prepare(engine, reflect=True)\n",
    "Base.classes.keys()"
   ]
  },
  {
   "cell_type": "code",
   "execution_count": 5,
   "metadata": {},
   "outputs": [
    {
     "data": {
      "text/plain": [
       "['pg_rating', 'title', 'director', 'country', 'cast', 'Listed_in']"
      ]
     },
     "execution_count": 5,
     "metadata": {},
     "output_type": "execute_result"
    }
   ],
   "source": [
    "inspector = inspect(engine)\n",
    "inspector.get_table_names()"
   ]
  },
  {
   "cell_type": "code",
   "execution_count": 6,
   "metadata": {},
   "outputs": [
    {
     "data": {
      "text/html": [
       "<div>\n",
       "<style scoped>\n",
       "    .dataframe tbody tr th:only-of-type {\n",
       "        vertical-align: middle;\n",
       "    }\n",
       "\n",
       "    .dataframe tbody tr th {\n",
       "        vertical-align: top;\n",
       "    }\n",
       "\n",
       "    .dataframe thead th {\n",
       "        text-align: right;\n",
       "    }\n",
       "</style>\n",
       "<table border=\"1\" class=\"dataframe\">\n",
       "  <thead>\n",
       "    <tr style=\"text-align: right;\">\n",
       "      <th></th>\n",
       "      <th>show_id</th>\n",
       "      <th>show_type</th>\n",
       "      <th>title</th>\n",
       "      <th>date_added</th>\n",
       "      <th>Netflix release year</th>\n",
       "      <th>duration</th>\n",
       "      <th>description</th>\n",
       "      <th>IMDB rating</th>\n",
       "      <th>Rotten Tomatoes rating</th>\n",
       "      <th>Award</th>\n",
       "      <th>Released Date</th>\n",
       "      <th>Budget</th>\n",
       "      <th>Movie ID</th>\n",
       "      <th>Revenue</th>\n",
       "    </tr>\n",
       "  </thead>\n",
       "  <tbody>\n",
       "    <tr>\n",
       "      <th>0</th>\n",
       "      <td>81145628</td>\n",
       "      <td>NaN</td>\n",
       "      <td>Norm of the North: King Sized Adventure</td>\n",
       "      <td>9-Sep-19</td>\n",
       "      <td>2019</td>\n",
       "      <td>90 min</td>\n",
       "      <td>Before planning an awesome wedding for his gra...</td>\n",
       "      <td>3</td>\n",
       "      <td>36</td>\n",
       "      <td>NaN</td>\n",
       "      <td>2-Aug-19</td>\n",
       "      <td>0</td>\n",
       "      <td>601131.0</td>\n",
       "      <td>1442504</td>\n",
       "    </tr>\n",
       "    <tr>\n",
       "      <th>1</th>\n",
       "      <td>80117401</td>\n",
       "      <td>NaN</td>\n",
       "      <td>Jandino: Whatever it Takes</td>\n",
       "      <td>9-Sep-16</td>\n",
       "      <td>2016</td>\n",
       "      <td>94 min</td>\n",
       "      <td>Jandino Asporaat riffs on the challenges of ra...</td>\n",
       "      <td>5</td>\n",
       "      <td>0</td>\n",
       "      <td>NaN</td>\n",
       "      <td>NaN</td>\n",
       "      <td>0</td>\n",
       "      <td>415722.0</td>\n",
       "      <td>0</td>\n",
       "    </tr>\n",
       "    <tr>\n",
       "      <th>2</th>\n",
       "      <td>80163890</td>\n",
       "      <td>NaN</td>\n",
       "      <td>Apaches</td>\n",
       "      <td>8-Sep-17</td>\n",
       "      <td>2016</td>\n",
       "      <td>1 Season</td>\n",
       "      <td>A young journalist is forced into a life of cr...</td>\n",
       "      <td>5</td>\n",
       "      <td>31</td>\n",
       "      <td>2 nominations.</td>\n",
       "      <td>14-Aug-13</td>\n",
       "      <td>0</td>\n",
       "      <td>164337.0</td>\n",
       "      <td>0</td>\n",
       "    </tr>\n",
       "    <tr>\n",
       "      <th>3</th>\n",
       "      <td>70304989</td>\n",
       "      <td>NaN</td>\n",
       "      <td>Automata</td>\n",
       "      <td>8-Sep-17</td>\n",
       "      <td>2014</td>\n",
       "      <td>110 min</td>\n",
       "      <td>In a dystopian future, an insurance adjuster f...</td>\n",
       "      <td>6</td>\n",
       "      <td>29</td>\n",
       "      <td>6 nominations.</td>\n",
       "      <td>17-Oct-14</td>\n",
       "      <td>7000000</td>\n",
       "      <td>262543.0</td>\n",
       "      <td>0</td>\n",
       "    </tr>\n",
       "    <tr>\n",
       "      <th>4</th>\n",
       "      <td>70304990</td>\n",
       "      <td>NaN</td>\n",
       "      <td>Good People</td>\n",
       "      <td>8-Sep-17</td>\n",
       "      <td>2014</td>\n",
       "      <td>90 min</td>\n",
       "      <td>A struggling couple can't believe their luck w...</td>\n",
       "      <td>5</td>\n",
       "      <td>12</td>\n",
       "      <td>NaN</td>\n",
       "      <td>21-Aug-15</td>\n",
       "      <td>0</td>\n",
       "      <td>262338.0</td>\n",
       "      <td>0</td>\n",
       "    </tr>\n",
       "  </tbody>\n",
       "</table>\n",
       "</div>"
      ],
      "text/plain": [
       "    show_id  show_type                                    title date_added  \\\n",
       "0  81145628        NaN  Norm of the North: King Sized Adventure   9-Sep-19   \n",
       "1  80117401        NaN               Jandino: Whatever it Takes   9-Sep-16   \n",
       "2  80163890        NaN                                  Apaches   8-Sep-17   \n",
       "3  70304989        NaN                                 Automata   8-Sep-17   \n",
       "4  70304990        NaN                              Good People   8-Sep-17   \n",
       "\n",
       "   Netflix release year  duration  \\\n",
       "0                  2019    90 min   \n",
       "1                  2016    94 min   \n",
       "2                  2016  1 Season   \n",
       "3                  2014   110 min   \n",
       "4                  2014    90 min   \n",
       "\n",
       "                                         description  IMDB rating  \\\n",
       "0  Before planning an awesome wedding for his gra...            3   \n",
       "1  Jandino Asporaat riffs on the challenges of ra...            5   \n",
       "2  A young journalist is forced into a life of cr...            5   \n",
       "3  In a dystopian future, an insurance adjuster f...            6   \n",
       "4  A struggling couple can't believe their luck w...            5   \n",
       "\n",
       "   Rotten Tomatoes rating           Award Released Date   Budget  Movie ID  \\\n",
       "0                      36             NaN      2-Aug-19        0  601131.0   \n",
       "1                       0             NaN           NaN        0  415722.0   \n",
       "2                      31  2 nominations.     14-Aug-13        0  164337.0   \n",
       "3                      29  6 nominations.     17-Oct-14  7000000  262543.0   \n",
       "4                      12             NaN     21-Aug-15        0  262338.0   \n",
       "\n",
       "   Revenue  \n",
       "0  1442504  \n",
       "1        0  \n",
       "2        0  \n",
       "3        0  \n",
       "4        0  "
      ]
     },
     "execution_count": 6,
     "metadata": {},
     "output_type": "execute_result"
    }
   ],
   "source": [
    "title_df = pd.DataFrame(df_new,columns=['show_id','show_type','title','date_added','Netflix release year','duration','description','IMDB rating','Rotten Tomatoes rating','Award','Released Date','Budget','Movie ID','Revenue'])\n",
    "\n",
    "title_df = title_df.reset_index(drop=True)\n",
    "title_df.head()"
   ]
  },
  {
   "cell_type": "code",
   "execution_count": 7,
   "metadata": {},
   "outputs": [],
   "source": [
    "title_df[\"description\"] = title_df[\"description\"].str.replace(\"'\",\"''\")\n",
    "title_df[\"title\"] = title_df[\"title\"].str.replace(\"'\",\"''\")"
   ]
  },
  {
   "cell_type": "code",
   "execution_count": null,
   "metadata": {},
   "outputs": [],
   "source": [
    "show_id_list = list(title_df['show_id'])\n",
    "show_type_list = list(title_df['show_type'])\n",
    "title_list = list(title_df['title'])\n",
    "date_added_list = list(title_df['date_added'])\n",
    "Netflix_release_year_list = list(title_df['Netflix release year'])\n",
    "duration_list = list(title_df['duration'])\n",
    "description_list = list(title_df['description'])\n",
    "IMDB_rating_list = list(title_df['IMDB rating'])\n",
    "Rotten_Tomatoes_rating_list = list(title_df['Rotten Tomatoes rating'])\n",
    "Award_list = list(title_df['Award'])\n",
    "Released_Date_list = list(title_df['Released Date'])\n",
    "Budget_list = list(title_df['Budget'])\n",
    "Movie_ID_list = list(title_df['Movie ID'])\n",
    "Revenue_list = list(title_df['Revenue'])\n",
    "\n",
    "for i in range (len (show_id_list)):\n",
    "    statement = f\"INSERT INTO title VALUES ({show_id_list[i]},'{show_type_list[i]}','{title_list[i]}','{date_added_list[i]}','{Netflix_release_year_list[i]}','{duration_list[i]}','{description_list[i]}','{IMDB_rating_list[i]}',{Rotten_Tomatoes_rating_list[i]},'{Award_list[i]}','{Released_Date_list[i]}',{Budget_list[i]},{Movie_ID_list[i]},{Revenue_list[i]})\"\n",
    "    #print (statement)\n",
    "    conn.execute(statement)\n",
    "    #      print (show_id_list,show_type_list,title_list,date_added_list,Netflix_release_year_list,duration_list,description_list,IMDB_rating_list,Rotten_Tomatoes_rating_list,Award_list,Released_Date_list,Movie_ID_list,Revenue_list)\n"
   ]
  },
  {
   "cell_type": "code",
   "execution_count": null,
   "metadata": {},
   "outputs": [],
   "source": [
    "Def \n",
    "for col1, col2 in title_df.iterrows():\n",
    "    print(col2)\n",
    "    #statement = f\"INSERT INTO title (show_id,show_type,title,date_added,Netflix release year,duration,description,IMDB rating,Rotten Tomatoes rating,Award,Released Date,Movie ID,Revenue) VALUES ('{cols}')\"\n",
    "    #conn.execute(statement)"
   ]
  },
  {
   "cell_type": "code",
   "execution_count": null,
   "metadata": {},
   "outputs": [],
   "source": [
    "columns = inspector.get_columns('title')\n",
    "columns"
   ]
  },
  {
   "cell_type": "code",
   "execution_count": null,
   "metadata": {},
   "outputs": [],
   "source": [
    "for cols in columns: \n",
    "    print(cols['name'], cols['type'])"
   ]
  },
  {
   "cell_type": "code",
   "execution_count": null,
   "metadata": {},
   "outputs": [],
   "source": [
    "Base = automap_base()\n",
    "Base.prepare(engine, reflect=True)\n",
    "Title = Base.classes.title"
   ]
  },
  {
   "cell_type": "code",
   "execution_count": null,
   "metadata": {},
   "outputs": [],
   "source": [
    "session = Session(engine)"
   ]
  },
  {
   "cell_type": "code",
   "execution_count": null,
   "metadata": {},
   "outputs": [],
   "source": [
    "results = session.query(Title.show_id, Title.award, Title.movie_id).order_by(Title.movie_id.desc()).all()"
   ]
  },
  {
   "cell_type": "code",
   "execution_count": null,
   "metadata": {},
   "outputs": [],
   "source": [
    "print(results)"
   ]
  },
  {
   "cell_type": "code",
   "execution_count": null,
   "metadata": {},
   "outputs": [],
   "source": [
    "results_2 = session.query(Title.director).all()\n",
    "print(results_2)\n",
    "#Director_df = pd.DataFrame(results_2,columns=['director'])\n",
    "#prcp_df = prcp_df.set_index(\"director\")\n",
    "#Director_df.head()"
   ]
  },
  {
   "cell_type": "code",
   "execution_count": null,
   "metadata": {},
   "outputs": [],
   "source": [
    "Director_df = pd.DataFrame(results_2,columns=['director'])\n",
    "#Director_df = Director_df.set_index(\"director\")\n",
    "Director_df = Director_df.reset_index(drop=True)\n",
    "Director_df.head()"
   ]
  },
  {
   "cell_type": "code",
   "execution_count": null,
   "metadata": {},
   "outputs": [],
   "source": [
    "from sqlalchemy import insert"
   ]
  },
  {
   "cell_type": "code",
   "execution_count": null,
   "metadata": {},
   "outputs": [],
   "source": [
    "for cols in results_2: \n",
    "    print(cols[0])"
   ]
  },
  {
   "cell_type": "code",
   "execution_count": null,
   "metadata": {},
   "outputs": [],
   "source": [
    "engine.execute(\"Select * from Director\").fetchall()"
   ]
  },
  {
   "cell_type": "code",
   "execution_count": null,
   "metadata": {},
   "outputs": [],
   "source": [
    "Director_df.director = Director_df.director.str.split(',')\n",
    "Director_df = Director_df.explode('director').reset_index(drop=True)\n",
    "Director_df.drop_duplicates(subset=['director'], inplace=True)\n",
    "Director_df.dropna(subset=['director'],inplace=True)\n",
    "#Director_df = Director_df[Director_df.director != \"None\"]\n",
    "Director_df"
   ]
  },
  {
   "cell_type": "code",
   "execution_count": null,
   "metadata": {},
   "outputs": [],
   "source": [
    "Director_df[\"director\"] = Director_df[\"director\"].str.replace(\"'\",\"''\")"
   ]
  },
  {
   "cell_type": "code",
   "execution_count": null,
   "metadata": {},
   "outputs": [],
   "source": [
    "for cols in Director_df['director']: \n",
    "    statement = f\"INSERT INTO Director (director_name) VALUES ('{cols}')\"\n",
    "    conn.execute(statement)"
   ]
  },
  {
   "cell_type": "code",
   "execution_count": null,
   "metadata": {},
   "outputs": [],
   "source": [
    "#Country\n",
    "results_3 = session.query(Title.country).all()\n",
    "print(results_3)"
   ]
  },
  {
   "cell_type": "code",
   "execution_count": null,
   "metadata": {},
   "outputs": [],
   "source": [
    "#Country\n",
    "Country_df = pd.DataFrame(results_3,columns=['country'])\n",
    "Country_df = Country_df.reset_index(drop=True)\n",
    "Country_df.head()"
   ]
  },
  {
   "cell_type": "code",
   "execution_count": null,
   "metadata": {},
   "outputs": [],
   "source": [
    "Country_df.country = Country_df.country.str.split(',')\n",
    "Country_df = Country_df.explode('country').reset_index(drop=True)\n",
    "Country_df.drop_duplicates(subset=['country'], inplace=True)\n",
    "Country_df.dropna(subset=['country'],inplace=True)\n",
    "#Director_df = Director_df[Director_df.director != \"None\"]\n",
    "Country_df"
   ]
  },
  {
   "cell_type": "code",
   "execution_count": null,
   "metadata": {},
   "outputs": [],
   "source": [
    "for h in Country_df['country']: \n",
    "    statement_2 = f\"INSERT INTO country (country_name) VALUES ('{h}')\"\n",
    "    conn.execute(statement_2)\n",
    "    #print(col)"
   ]
  },
  {
   "cell_type": "code",
   "execution_count": null,
   "metadata": {},
   "outputs": [],
   "source": [
    "#Rating\n",
    "results_4 = session.query(Title.rating).all()\n",
    "print(results_4)"
   ]
  },
  {
   "cell_type": "code",
   "execution_count": null,
   "metadata": {},
   "outputs": [],
   "source": [
    "pg_rating_df = pd.DataFrame(results_4,columns=['rating'])\n",
    "pg_rating_df = pg_rating_df.reset_index(drop=True)\n",
    "pg_rating_df.head()"
   ]
  },
  {
   "cell_type": "code",
   "execution_count": null,
   "metadata": {},
   "outputs": [],
   "source": [
    "for cols in results_4:\n",
    "    print(cols[0])"
   ]
  },
  {
   "cell_type": "code",
   "execution_count": null,
   "metadata": {},
   "outputs": [],
   "source": [
    "engine.execute(\"Select * from pg_rating\").fetchall()"
   ]
  },
  {
   "cell_type": "code",
   "execution_count": null,
   "metadata": {},
   "outputs": [],
   "source": [
    "pg_rating_df.drop_duplicates(subset=['rating'], inplace=True)\n",
    "pg_rating_df.dropna(subset=['rating'],inplace=True)\n",
    "pg_rating_df"
   ]
  },
  {
   "cell_type": "code",
   "execution_count": null,
   "metadata": {},
   "outputs": [],
   "source": [
    "for cols in pg_rating_df['rating']:\n",
    "    statement = f\"INSERT INTO pg_rating (pg_rating_name) VALUES ('{cols}')\"\n",
    "    conn.execute(statement)"
   ]
  },
  {
   "cell_type": "code",
   "execution_count": null,
   "metadata": {},
   "outputs": [],
   "source": [
    "######### New Code #######\n",
    "netflix_titles_path = \"TMDB_OMDB.csv\"\n",
    "\n",
    "# Read the mouse data and the study results\n",
    "netflix_titles = pd.read_csv(netflix_titles_path)\n",
    "netflix_titles.replace('', np.nan, inplace=True) \n",
    "netflix_titles.drop_duplicates(subset=['show_id'], inplace=True)\n",
    "#netflix_titles.dropna(subset=['Movie ID','director', 'cast', 'country', 'listed_in'], inplace=True)\n",
    "#netflix_titles = netflix_titles_temp.drop(columns=[\"Unnamed: 0\",\"Unnamed: 0.1\"])\n",
    "\n",
    "netflix_titles"
   ]
  },
  {
   "cell_type": "code",
   "execution_count": null,
   "metadata": {},
   "outputs": [],
   "source": [
    "netflix_titles_countries = pd.DataFrame ({\"Titles\": netflix_titles[\"show_id\"],\n",
    "                                          \"Country\": netflix_titles[\"country\"]}) \n",
    "netflix_titles_countries.Country = netflix_titles_countries.Country.str.split(', ')\n",
    "netflix_titles_countries = netflix_titles_countries.explode('Country').reset_index(drop=True)\n",
    "netflix_titles_countries.dropna(subset=['Country'], inplace=True)\n",
    "netflix_titles_countries.head(30)"
   ]
  },
  {
   "cell_type": "code",
   "execution_count": null,
   "metadata": {},
   "outputs": [],
   "source": [
    "netflix_titles_listed_in = pd.DataFrame ({\"Titles\": netflix_titles[\"show_id\"],\n",
    "                                          \"Listed_In\": netflix_titles[\"listed_in\"]}) \n",
    "netflix_titles_listed_in.Listed_In = netflix_titles_listed_in.Listed_In.str.split(', ')\n",
    "netflix_titles_listed_in = netflix_titles_listed_in.explode('Listed_In').reset_index(drop=True)\n",
    "netflix_titles_listed_in.dropna(subset=['Listed_In'], inplace=True)\n",
    "netflix_titles_listed_in.head(30)"
   ]
  },
  {
   "cell_type": "code",
   "execution_count": null,
   "metadata": {},
   "outputs": [],
   "source": [
    "netflix_titles_directors = pd.DataFrame ({\"Titles\": netflix_titles[\"show_id\"],\n",
    "                                          \"directors\": netflix_titles[\"director\"]}) \n",
    "netflix_titles_directors.directors = netflix_titles_directors.directors.str.split(', ')\n",
    "netflix_titles_directors = netflix_titles_directors.explode('directors').reset_index(drop=True)\n",
    "netflix_titles_directors.dropna(subset=['directors'], inplace=True)\n",
    "netflix_titles_directors.head(30)"
   ]
  },
  {
   "cell_type": "code",
   "execution_count": null,
   "metadata": {},
   "outputs": [],
   "source": [
    "netflix_titles_Cast = pd.DataFrame ({\"Titles\": netflix_titles[\"show_id\"],\n",
    "                                          \"Cast\": netflix_titles[\"cast\"]}) \n",
    "netflix_titles_Cast.Cast = netflix_titles_Cast.Cast.str.split(', ')\n",
    "netflix_titles_Cast = netflix_titles_Cast.explode('Cast').reset_index(drop=True)\n",
    "netflix_titles_Cast.dropna(subset=['Cast'], inplace=True)\n",
    "netflix_titles_Cast.head(30)\n",
    "\n",
    "\n",
    "\n"
   ]
  },
  {
   "cell_type": "code",
   "execution_count": null,
   "metadata": {},
   "outputs": [],
   "source": []
  }
 ],
 "metadata": {
  "kernelspec": {
   "display_name": "Python 3",
   "language": "python",
   "name": "python3"
  },
  "language_info": {
   "codemirror_mode": {
    "name": "ipython",
    "version": 3
   },
   "file_extension": ".py",
   "mimetype": "text/x-python",
   "name": "python",
   "nbconvert_exporter": "python",
   "pygments_lexer": "ipython3",
   "version": "3.8.2"
  }
 },
 "nbformat": 4,
 "nbformat_minor": 4
}
